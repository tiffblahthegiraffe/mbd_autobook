{
 "cells": [
  {
   "cell_type": "code",
   "execution_count": 2,
   "id": "c5574925",
   "metadata": {},
   "outputs": [
    {
     "name": "stdout",
     "output_type": "stream",
     "text": [
      "Collecting selenium\n",
      "  Downloading selenium-3.141.0-py2.py3-none-any.whl (904 kB)\n",
      "\u001b[K     |████████████████████████████████| 904 kB 4.3 MB/s eta 0:00:01\n",
      "\u001b[?25hCollecting urllib3\n",
      "  Using cached urllib3-1.26.4-py2.py3-none-any.whl (153 kB)\n",
      "Installing collected packages: urllib3, selenium\n",
      "Successfully installed selenium-3.141.0 urllib3-1.26.4\n",
      "\u001b[33mWARNING: You are using pip version 21.0.1; however, version 21.1.1 is available.\n",
      "You should consider upgrading via the '/usr/local/opt/python@3.9/bin/python3.9 -m pip install --upgrade pip' command.\u001b[0m\n"
     ]
    }
   ],
   "source": [
    "!pip3 install selenium"
   ]
  },
  {
   "cell_type": "code",
   "execution_count": 3,
   "id": "4151a871",
   "metadata": {},
   "outputs": [],
   "source": [
    "from selenium import webdriver\n",
    "from selenium.webdriver.common.keys import Keys"
   ]
  },
  {
   "cell_type": "code",
   "execution_count": 5,
   "id": "cea4590b",
   "metadata": {},
   "outputs": [],
   "source": [
    "path = '/Users/tiffanysung/Documents/mindbody/chromedriver'\n",
    "driver = webdriver.Chrome(path)"
   ]
  },
  {
   "cell_type": "code",
   "execution_count": 20,
   "id": "90a3f199",
   "metadata": {},
   "outputs": [],
   "source": [
    "driver.get('https://clients.mindbodyonline.com/classic/mainclass?studioid=841970')"
   ]
  },
  {
   "cell_type": "code",
   "execution_count": 21,
   "id": "8ca5b2f5",
   "metadata": {},
   "outputs": [],
   "source": [
    "sign_in = driver.find_element_by_class_name('signInButton')"
   ]
  },
  {
   "cell_type": "code",
   "execution_count": 22,
   "id": "f716c232",
   "metadata": {},
   "outputs": [],
   "source": [
    "sign_in.click()"
   ]
  },
  {
   "cell_type": "code",
   "execution_count": null,
   "id": "f781f0ed",
   "metadata": {},
   "outputs": [],
   "source": [
    "\n",
    "# email field\n",
    "<input class=\"\" id=\"su1UserName\" type=\"text\" spellcheck=\"false\" name=\"requiredtxtUserName\" placeholder=\" Email\" autocomplete=\"off\" maxlength=\"100\">\n",
    "\n",
    "#pw field\n",
    "<input class=\"\" id=\"su1Password\" type=\"password\" name=\"requiredtxtPassword\" placeholder=\" Password\" autocomplete=\"off\" maxlength=\"30\">\n",
    "\n",
    "#loginButton\n",
    "<input class=\"loginButton\" type=\"button\" value=\"Sign In\" name=\"btnSignUp2\" id=\"btnSu1Login\">\n",
    "\n",
    "#Class tab\n",
    "<td class=\"tab tab-nosel tabclass\" id=\"tabTD7\" onclick=\"document.location.href='/classic/mainclass?fl=true&amp;tabID=7'\">\n",
    "\t\t<table class=\"tabItem\"><tbody><tr>\n",
    "\t\t\n",
    "\t\t\t\t<td class=\"tab-l tab-l tab-l-firstTab\"><div></div></td>\n",
    "\t\t\t\t<td class=\"tab-c tab-c tab-c-firstTab\"><a id=\"tabA7\">CLASSES</a></td>\n",
    "\t\t\t\t<td class=\"tab-r tab-r tab-r-firstTab\"><div></div></td>\n",
    "\t\t\t\t\n",
    "\t\t</tr></tbody></table>\n",
    "\t\t</td>\n",
    "        \n",
    "#Today button\n",
    "<td id=\"today-button\">\n",
    "\t\t\t\t\t\t\t\t<a class=\"simple-round-button inline today-button  is-today\">\n",
    "Today\t\t\t\t\t\t\t\t</a>\n",
    "\t\t\t\t\t\t\t</td>\n",
    "\n",
    "#Sign up now button\n",
    "<input type=\"button\" name=\"but1243\" class=\"SignupButton\" onclick=\"_gaq.push(['_trackEvent', 'Class_Schedule', 'click', 'Sign_Up_Now_button']);document.location='/ASP/res_a.asp?tg=22&amp;classId=1243&amp;classDate=5/9/2021&amp;clsLoc=1';\" value=\"Sign Up Now\">\n",
    "\n",
    "# reservation button\n",
    "<input class=\"actionButton\" type=\"button\" name=\"SubmitEnroll2\" \n",
    "id=\"SubmitEnroll2\" value=\"Make a single reservation\" onclick=\"submitResForm('res_deb.asp?classID=1243&amp;courseid=&amp;classDate=5/9/2021&amp;pmtRefNo=92585&amp;clsLoc=1&amp;typeGroupID=22&amp;recurring=false&amp;wlID=',false, false);\">\n",
    "\n",
    "<input onclick=\"submitFormMainRetail('res_deb.asp?classID=1243&amp;courseid=&amp;classDate=5/9/2021&amp;pmtRefNo=92585&amp;clsLoc=1&amp;typeGroupID=22&amp;recurring=true&amp;wlID=');\" \n",
    "class=\"actionButton\" type=\"button\" name=\"Submit2\" value=\"Make a recurring reservation\">\n"
   ]
  },
  {
   "cell_type": "code",
   "execution_count": 23,
   "id": "5ea3fdbc",
   "metadata": {},
   "outputs": [],
   "source": [
    "usr_email = driver.find_element_by_id('su1UserName')"
   ]
  },
  {
   "cell_type": "code",
   "execution_count": 24,
   "id": "3f25af26",
   "metadata": {},
   "outputs": [],
   "source": [
    "usr_email.send_keys('tiffblahthegiraffe@gmail.com')"
   ]
  },
  {
   "cell_type": "code",
   "execution_count": 25,
   "id": "9d957ea3",
   "metadata": {},
   "outputs": [],
   "source": [
    "usr_pw = driver.find_element_by_id('su1Password')"
   ]
  },
  {
   "cell_type": "code",
   "execution_count": 26,
   "id": "5788a1c0",
   "metadata": {},
   "outputs": [],
   "source": [
    "usr_pw.send_keys('Tiffanyisno.1')"
   ]
  },
  {
   "cell_type": "code",
   "execution_count": 27,
   "id": "8bed026d",
   "metadata": {},
   "outputs": [],
   "source": [
    "login = driver.find_element_by_class_name('loginButton')"
   ]
  },
  {
   "cell_type": "code",
   "execution_count": 28,
   "id": "a06b9023",
   "metadata": {},
   "outputs": [],
   "source": [
    "login.click()"
   ]
  },
  {
   "cell_type": "code",
   "execution_count": 30,
   "id": "99894383",
   "metadata": {},
   "outputs": [],
   "source": [
    "check_class = driver.find_element_by_id('tabTD7')\n",
    "check_class.click()"
   ]
  },
  {
   "cell_type": "code",
   "execution_count": 54,
   "id": "237abd72",
   "metadata": {},
   "outputs": [],
   "source": [
    "today_button = driver.find_element_by_id('today-button')\n",
    "today_button.click()"
   ]
  },
  {
   "cell_type": "code",
   "execution_count": 80,
   "id": "e8598f71",
   "metadata": {},
   "outputs": [],
   "source": [
    "schedule = driver.find_elements_by_xpath(\"//table/tbody/tr/td/table[@id ='classSchedule-mainTable']/tbody/tr\")"
   ]
  },
  {
   "cell_type": "code",
   "execution_count": 94,
   "id": "4c01a634",
   "metadata": {},
   "outputs": [],
   "source": [
    "DAILY_SCHEDULE = {'Mon': 5,'Tue': 5, 'Wed': 5,'Thu': 5,'Fri': 4,'Sat': 3,'Sun': 2}\n",
    "DAY_TO_BOOK = 'Sun'\n",
    "CLASS_TIME = '9:30'"
   ]
  },
  {
   "cell_type": "code",
   "execution_count": 95,
   "id": "7cecb663",
   "metadata": {},
   "outputs": [
    {
     "name": "stdout",
     "output_type": "stream",
     "text": [
      " Mon May 03, 2021 \n",
      "   6:15 am  EDT Redline F45 Trainer Indoor  45 minutes\n",
      "   7:15 am  EDT Redline F45 Trainer Indoor  45 minutes\n",
      "   8:15 am  EDT Redline F45 Trainer Indoor  45 minutes\n",
      "   12:15 pm  EDT Redline F45 Trainer Indoor  45 minutes\n",
      "   6:00 pm  EDT Redline F45 Trainer Indoor  45 minutes\n",
      " Tue May 04, 2021 \n",
      "   6:15 am  EDT Mkatz F45 Trainer Indoor  45 minutes\n",
      "   7:15 am  EDT Mkatz F45 Trainer Indoor  45 minutes\n",
      "   8:15 am  EDT Mkatz F45 Trainer Indoor  45 minutes\n",
      "   12:15 pm  EDT Mkatz F45 Trainer Indoor  45 minutes\n",
      "   6:00 pm  EDT Mkatz F45 Trainer Indoor  45 minutes\n",
      " Wed May 05, 2021 \n",
      "   6:15 am  EDT Docklands F45 Trainer Indoor  45 minutes\n",
      "   7:15 am  EDT  Registered! Docklands F45 Trainer Indoor  45 minutes\n",
      "   8:15 am  EDT Docklands F45 Trainer Indoor  45 minutes\n",
      "   12:15 pm  EDT Docklands F45 Trainer Indoor  45 minutes\n",
      "   6:00 pm  EDT Docklands F45 Trainer Indoor  45 minutes\n",
      " Thu May 06, 2021 \n",
      "   6:15 am  EDT Panthers F45 Trainer Indoor  45 minutes\n",
      "   7:15 am  EDT  Registered! Panthers F45 Trainer Indoor  45 minutes\n",
      "   8:15 am  EDT Panthers F45 Trainer Indoor  45 minutes\n",
      "   12:15 pm  EDT Panthers F45 Trainer Indoor  45 minutes\n",
      "   6:00 pm  EDT Panthers F45 Trainer Indoor  45 minutes\n",
      " Fri May 07, 2021 \n",
      "   6:15 am  EDT Triple Double F45 Trainer Indoor  45 minutes\n",
      "   7:15 am  EDT  Registered! Triple Double F45 Trainer Indoor  45 minutes\n",
      "   8:15 am  EDT Triple Double F45 Trainer Indoor  45 minutes\n",
      "   12:15 pm  EDT Triple Double F45 Trainer Indoor  45 minutes\n",
      " Sat May 08, 2021 \n",
      "   8:00 am  EDT NOHO F45 Trainer Indoor  1 hour\n",
      "   9:15 am  EDT NOHO F45 Trainer Indoor  1 hour\n",
      "   10:30 am  EDT NOHO F45 Trainer Indoor  1 hour\n",
      " Sun May 09, 2021 \n",
      "Book for this day\n",
      "   9:30 am  EDT Angry Bird F45 Trainer Indoor  45 minutes\n",
      "   10:30 am  EDT Angry Bird F45 Trainer Indoor  45 minutes\n"
     ]
    }
   ],
   "source": [
    "row_count = 0\n",
    "for row in schedule:\n",
    "    print(row.text)\n",
    "    if DAY_TO_BOOK in row.text:\n",
    "        print('Book for this day')\n",
    "        start_row = row_count + 1 #7\n",
    "        end_row = row_count + 1 + DAILY_SCHEDULE[DAY_TO_BOOK] # 7 + 5\n",
    "        time = schedule[start_row:end_row]\n",
    "    row_count += 1\n",
    "    #time = c.find_elements_by_xpath('')"
   ]
  },
  {
   "cell_type": "code",
   "execution_count": 97,
   "id": "e47f9dd7",
   "metadata": {},
   "outputs": [
    {
     "name": "stdout",
     "output_type": "stream",
     "text": [
      "   9:30 am  EDT Angry Bird F45 Trainer Indoor  45 minutes\n",
      "   10:30 am  EDT Angry Bird F45 Trainer Indoor  45 minutes\n"
     ]
    }
   ],
   "source": [
    "for c in time:\n",
    "    print(c.text)\n",
    "    if CLASS_TIME in c.text:\n",
    "        sign_up = c.find_element_by_class_name('SignupButton')"
   ]
  },
  {
   "cell_type": "code",
   "execution_count": 99,
   "id": "b046adba",
   "metadata": {},
   "outputs": [],
   "source": [
    "sign_up.click()"
   ]
  },
  {
   "cell_type": "code",
   "execution_count": null,
   "id": "7ea2abd6",
   "metadata": {},
   "outputs": [],
   "source": [
    "single_reservation = driver.find_element_by_id('SubmitEnroll2')\n",
    "sigle_reservation.click()"
   ]
  }
 ],
 "metadata": {
  "kernelspec": {
   "display_name": "Python 3",
   "language": "python",
   "name": "python3"
  },
  "language_info": {
   "codemirror_mode": {
    "name": "ipython",
    "version": 3
   },
   "file_extension": ".py",
   "mimetype": "text/x-python",
   "name": "python",
   "nbconvert_exporter": "python",
   "pygments_lexer": "ipython3",
   "version": "3.9.4"
  }
 },
 "nbformat": 4,
 "nbformat_minor": 5
}
