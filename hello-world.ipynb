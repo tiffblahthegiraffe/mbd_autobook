{
 "cells": [
  {
   "cell_type": "code",
   "execution_count": 2,
   "id": "506bc451",
   "metadata": {},
   "outputs": [
    {
     "name": "stdout",
     "output_type": "stream",
     "text": [
      "Collecting selenium\n",
      "  Downloading selenium-3.141.0-py2.py3-none-any.whl (904 kB)\n",
      "\u001b[K     |████████████████████████████████| 904 kB 4.3 MB/s eta 0:00:01\n",
      "\u001b[?25hCollecting urllib3\n",
      "  Using cached urllib3-1.26.4-py2.py3-none-any.whl (153 kB)\n",
      "Installing collected packages: urllib3, selenium\n",
      "Successfully installed selenium-3.141.0 urllib3-1.26.4\n",
      "\u001b[33mWARNING: You are using pip version 21.0.1; however, version 21.1.1 is available.\n",
      "You should consider upgrading via the '/usr/local/opt/python@3.9/bin/python3.9 -m pip install --upgrade pip' command.\u001b[0m\n"
     ]
    }
   ],
   "source": [
    "!pip3 install selenium"
   ]
  },
  {
   "cell_type": "code",
   "execution_count": 3,
   "id": "fe66fd21",
   "metadata": {},
   "outputs": [],
   "source": [
    "from selenium import webdriver\n",
    "from selenium.webdriver.common.keys import Keys"
   ]
  },
  {
   "cell_type": "code",
   "execution_count": 5,
   "id": "eb948e00",
   "metadata": {},
   "outputs": [],
   "source": [
    "path = '/Users/tiffanysung/Documents/mindbody/chromedriver'\n",
    "driver = webdriver.Chrome(path)"
   ]
  },
  {
   "cell_type": "code",
   "execution_count": 103,
   "id": "f8f124dc",
   "metadata": {},
   "outputs": [],
   "source": [
    "driver.get('https://clients.mindbodyonline.com/classic/mainclass?studioid=841970')"
   ]
  },
  {
   "cell_type": "code",
   "execution_count": 104,
   "id": "0d0b11f7",
   "metadata": {},
   "outputs": [],
   "source": [
    "sign_in = driver.find_element_by_class_name('signInButton')"
   ]
  },
  {
   "cell_type": "code",
   "execution_count": 105,
   "id": "d5fa0127",
   "metadata": {},
   "outputs": [],
   "source": [
    "sign_in.click()"
   ]
  },
  {
   "cell_type": "code",
   "execution_count": null,
   "id": "adde3e89",
   "metadata": {},
   "outputs": [],
   "source": [
    "\n",
    "# email field\n",
    "<input class=\"\" id=\"su1UserName\" type=\"text\" spellcheck=\"false\" name=\"requiredtxtUserName\" placeholder=\" Email\" autocomplete=\"off\" maxlength=\"100\">\n",
    "\n",
    "#pw field\n",
    "<input class=\"\" id=\"su1Password\" type=\"password\" name=\"requiredtxtPassword\" placeholder=\" Password\" autocomplete=\"off\" maxlength=\"30\">\n",
    "\n",
    "#loginButton\n",
    "<input class=\"loginButton\" type=\"button\" value=\"Sign In\" name=\"btnSignUp2\" id=\"btnSu1Login\">\n",
    "\n",
    "#Class tab\n",
    "<td class=\"tab tab-nosel tabclass\" id=\"tabTD7\" onclick=\"document.location.href='/classic/mainclass?fl=true&amp;tabID=7'\">\n",
    "\t\t<table class=\"tabItem\"><tbody><tr>\n",
    "\t\t\n",
    "\t\t\t\t<td class=\"tab-l tab-l tab-l-firstTab\"><div></div></td>\n",
    "\t\t\t\t<td class=\"tab-c tab-c tab-c-firstTab\"><a id=\"tabA7\">CLASSES</a></td>\n",
    "\t\t\t\t<td class=\"tab-r tab-r tab-r-firstTab\"><div></div></td>\n",
    "\t\t\t\t\n",
    "\t\t</tr></tbody></table>\n",
    "\t\t</td>\n",
    "        \n",
    "#Today button\n",
    "<td id=\"today-button\">\n",
    "\t\t\t\t\t\t\t\t<a class=\"simple-round-button inline today-button  is-today\">\n",
    "Today\t\t\t\t\t\t\t\t</a>\n",
    "\t\t\t\t\t\t\t</td>\n",
    "\n",
    "#Sign up now button\n",
    "<input type=\"button\" name=\"but1243\" class=\"SignupButton\" onclick=\"_gaq.push(['_trackEvent', 'Class_Schedule', 'click', 'Sign_Up_Now_button']);document.location='/ASP/res_a.asp?tg=22&amp;classId=1243&amp;classDate=5/9/2021&amp;clsLoc=1';\" value=\"Sign Up Now\">\n",
    "\n",
    "# single reservation button\n",
    "<input class=\"actionButton\" type=\"button\" name=\"SubmitEnroll2\" \n",
    "id=\"SubmitEnroll2\" value=\"Make a single reservation\" onclick=\"submitResForm('res_deb.asp?classID=1243&amp;courseid=&amp;classDate=5/9/2021&amp;pmtRefNo=92585&amp;clsLoc=1&amp;typeGroupID=22&amp;recurring=false&amp;wlID=',false, false);\">\n",
    "\n",
    "#recurrent reservation button\n",
    "<input onclick=\"submitFormMainRetail('res_deb.asp?classID=1243&amp;courseid=&amp;classDate=5/9/2021&amp;pmtRefNo=92585&amp;clsLoc=1&amp;typeGroupID=22&amp;recurring=true&amp;wlID=');\" \n",
    "class=\"actionButton\" type=\"button\" name=\"Submit2\" value=\"Make a recurring reservation\">\n",
    "\n",
    "\n",
    "\n",
    "# logout button\n",
    "<input id=\"btnLogout\" type=\"button\" class=\"logoutButton\" value=\"Sign Out\" onclick=\"logOutOfIdentity()\">\n",
    "\n",
    "#cancle button\n",
    "<td class=\"textSmall cancelCell\"><a href=\"javascript:jsConfirm(90732, 1)\">Cancel</a></td>\n",
    "\n"
   ]
  },
  {
   "cell_type": "code",
   "execution_count": 106,
   "id": "2f03b216",
   "metadata": {},
   "outputs": [],
   "source": [
    "usr_email = driver.find_element_by_id('su1UserName')"
   ]
  },
  {
   "cell_type": "code",
   "execution_count": 107,
   "id": "cfbf0680",
   "metadata": {},
   "outputs": [],
   "source": [
    "usr_email.send_keys('tiffblahthegiraffe@gmail.com')"
   ]
  },
  {
   "cell_type": "code",
   "execution_count": 108,
   "id": "40697ee2",
   "metadata": {},
   "outputs": [],
   "source": [
    "usr_pw = driver.find_element_by_id('su1Password')"
   ]
  },
  {
   "cell_type": "code",
   "execution_count": 109,
   "id": "74df6c1c",
   "metadata": {},
   "outputs": [],
   "source": [
    "usr_pw.send_keys('Tiffanyisno.1')"
   ]
  },
  {
   "cell_type": "code",
   "execution_count": 110,
   "id": "1bd61e68",
   "metadata": {},
   "outputs": [],
   "source": [
    "login = driver.find_element_by_class_name('loginButton')"
   ]
  },
  {
   "cell_type": "code",
   "execution_count": 111,
   "id": "09be14ae",
   "metadata": {},
   "outputs": [],
   "source": [
    "login.click()"
   ]
  },
  {
   "cell_type": "code",
   "execution_count": 113,
   "id": "bb93be4a",
   "metadata": {},
   "outputs": [],
   "source": [
    "check_class = driver.find_element_by_id('tabTD7')\n",
    "check_class.click()"
   ]
  },
  {
   "cell_type": "code",
   "execution_count": 114,
   "id": "72203183",
   "metadata": {},
   "outputs": [],
   "source": [
    "today_button = driver.find_element_by_id('today-button')\n",
    "today_button.click()"
   ]
  },
  {
   "cell_type": "code",
   "execution_count": 120,
   "id": "a1c58215",
   "metadata": {},
   "outputs": [],
   "source": [
    "schedule = driver.find_elements_by_xpath(\"//table/tbody/tr/td/table[@id ='classSchedule-mainTable']/tbody/tr\")"
   ]
  },
  {
   "cell_type": "code",
   "execution_count": 121,
   "id": "4f9019cb",
   "metadata": {},
   "outputs": [],
   "source": [
    "DAILY_SCHEDULE = {'Mon': 5,'Tue': 5, 'Wed': 5,'Thu': 5,'Fri': 4,'Sat': 3,'Sun': 2}\n",
    "DAY_TO_BOOK = 'Sun'\n",
    "CLASS_TIME = '9:30'"
   ]
  },
  {
   "cell_type": "code",
   "execution_count": 122,
   "id": "7884f277",
   "metadata": {},
   "outputs": [
    {
     "name": "stdout",
     "output_type": "stream",
     "text": [
      " Mon May 03, 2021 \n",
      "   6:15 am  EDT Redline F45 Trainer Indoor  45 minutes\n",
      "   7:15 am  EDT Redline F45 Trainer Indoor  45 minutes\n",
      "   8:15 am  EDT Redline F45 Trainer Indoor  45 minutes\n",
      "   12:15 pm  EDT Redline F45 Trainer Indoor  45 minutes\n",
      "   6:00 pm  EDT Redline F45 Trainer Indoor  45 minutes\n",
      " Tue May 04, 2021 \n",
      "   6:15 am  EDT Mkatz F45 Trainer Indoor  45 minutes\n",
      "   7:15 am  EDT Mkatz F45 Trainer Indoor  45 minutes\n",
      "   8:15 am  EDT Mkatz F45 Trainer Indoor  45 minutes\n",
      "   12:15 pm  EDT Mkatz F45 Trainer Indoor  45 minutes\n",
      "   6:00 pm  EDT Mkatz F45 Trainer Indoor  45 minutes\n",
      " Wed May 05, 2021 \n",
      "   6:15 am  EDT Docklands F45 Trainer Indoor  45 minutes\n",
      "   7:15 am  EDT  Registered! Docklands F45 Trainer Indoor  45 minutes\n",
      "   8:15 am  EDT Docklands F45 Trainer Indoor  45 minutes\n",
      "   12:15 pm  EDT Docklands F45 Trainer Indoor  45 minutes\n",
      "   6:00 pm  EDT Docklands F45 Trainer Indoor  45 minutes\n",
      " Thu May 06, 2021 \n",
      "   6:15 am  EDT Panthers F45 Trainer Indoor  45 minutes\n",
      "   7:15 am  EDT  Registered! Panthers F45 Trainer Indoor  45 minutes\n",
      "   8:15 am  EDT Panthers F45 Trainer Indoor  45 minutes\n",
      "   12:15 pm  EDT Panthers F45 Trainer Indoor  45 minutes\n",
      "   6:00 pm  EDT Panthers F45 Trainer Indoor  45 minutes\n",
      " Fri May 07, 2021 \n",
      "   6:15 am  EDT Triple Double F45 Trainer Indoor  45 minutes\n",
      "   7:15 am  EDT  Registered! Triple Double F45 Trainer Indoor  45 minutes\n",
      "   8:15 am  EDT Triple Double F45 Trainer Indoor  45 minutes\n",
      "   12:15 pm  EDT Triple Double F45 Trainer Indoor  45 minutes\n",
      " Sat May 08, 2021 \n",
      "   8:00 am  EDT NOHO F45 Trainer Indoor  1 hour\n",
      "   9:15 am  EDT NOHO F45 Trainer Indoor  1 hour\n",
      "   10:30 am  EDT NOHO F45 Trainer Indoor  1 hour\n",
      " Sun May 09, 2021 \n",
      "Book for this day\n",
      "   9:30 am  EDT  Registered! Angry Bird F45 Trainer Indoor  45 minutes\n",
      "   10:30 am  EDT Angry Bird F45 Trainer Indoor  45 minutes\n"
     ]
    }
   ],
   "source": [
    "row_count = 0\n",
    "for row in schedule:\n",
    "    print(row.text)\n",
    "    if DAY_TO_BOOK in row.text:\n",
    "        print('Book for this day')\n",
    "        start_row = row_count + 1 #7\n",
    "        end_row = row_count + 1 + DAILY_SCHEDULE[DAY_TO_BOOK] # 7 + 5\n",
    "        time = schedule[start_row:end_row]\n",
    "    row_count += 1"
   ]
  },
  {
   "cell_type": "code",
   "execution_count": 97,
   "id": "65636c90",
   "metadata": {},
   "outputs": [
    {
     "name": "stdout",
     "output_type": "stream",
     "text": [
      "   9:30 am  EDT Angry Bird F45 Trainer Indoor  45 minutes\n",
      "   10:30 am  EDT Angry Bird F45 Trainer Indoor  45 minutes\n"
     ]
    }
   ],
   "source": [
    "for c in time:\n",
    "    print(c.text)\n",
    "    if CLASS_TIME in c.text:\n",
    "        sign_up = c.find_element_by_class_name('SignupButton')"
   ]
  },
  {
   "cell_type": "code",
   "execution_count": 99,
   "id": "104a2425",
   "metadata": {},
   "outputs": [],
   "source": [
    "sign_up.click()"
   ]
  },
  {
   "cell_type": "code",
   "execution_count": 101,
   "id": "63f7cc12",
   "metadata": {},
   "outputs": [],
   "source": [
    "single_reservation = driver.find_element_by_id('SubmitEnroll2')\n",
    "single_reservation.click()"
   ]
  },
  {
   "cell_type": "code",
   "execution_count": 134,
   "id": "548acedd",
   "metadata": {},
   "outputs": [
    {
     "ename": "StaleElementReferenceException",
     "evalue": "Message: stale element reference: element is not attached to the page document\n  (Session info: chrome=90.0.4430.93)\n",
     "output_type": "error",
     "traceback": [
      "\u001b[0;31m---------------------------------------------------------------------------\u001b[0m",
      "\u001b[0;31mStaleElementReferenceException\u001b[0m            Traceback (most recent call last)",
      "\u001b[0;32m<ipython-input-134-e43afcbe37f6>\u001b[0m in \u001b[0;36m<module>\u001b[0;34m\u001b[0m\n\u001b[1;32m      1\u001b[0m \u001b[0;32mfor\u001b[0m \u001b[0mc\u001b[0m \u001b[0;32min\u001b[0m \u001b[0mtime\u001b[0m\u001b[0;34m:\u001b[0m\u001b[0;34m\u001b[0m\u001b[0;34m\u001b[0m\u001b[0m\n\u001b[0;32m----> 2\u001b[0;31m     \u001b[0mprint\u001b[0m\u001b[0;34m(\u001b[0m\u001b[0mc\u001b[0m\u001b[0;34m.\u001b[0m\u001b[0mtext\u001b[0m\u001b[0;34m)\u001b[0m\u001b[0;34m\u001b[0m\u001b[0;34m\u001b[0m\u001b[0m\n\u001b[0m\u001b[1;32m      3\u001b[0m     \u001b[0;32mif\u001b[0m \u001b[0mCLASS_TIME\u001b[0m \u001b[0;32min\u001b[0m \u001b[0mc\u001b[0m\u001b[0;34m.\u001b[0m\u001b[0mtext\u001b[0m\u001b[0;34m:\u001b[0m\u001b[0;34m\u001b[0m\u001b[0;34m\u001b[0m\u001b[0m\n\u001b[1;32m      4\u001b[0m         \u001b[0mcheck_register\u001b[0m \u001b[0;34m=\u001b[0m \u001b[0mc\u001b[0m\u001b[0;34m.\u001b[0m\u001b[0mfind_element_by_xpath\u001b[0m\u001b[0;34m(\u001b[0m\u001b[0;34m'//tr/td/a/strong'\u001b[0m\u001b[0;34m)\u001b[0m\u001b[0;34m\u001b[0m\u001b[0;34m\u001b[0m\u001b[0m\n\u001b[1;32m      5\u001b[0m         \u001b[0;32mif\u001b[0m \u001b[0mcheck_register\u001b[0m\u001b[0;34m.\u001b[0m\u001b[0mtext\u001b[0m \u001b[0;34m==\u001b[0m \u001b[0;34m'Registered!'\u001b[0m\u001b[0;34m:\u001b[0m\u001b[0;34m\u001b[0m\u001b[0;34m\u001b[0m\u001b[0m\n",
      "\u001b[0;32m/usr/local/lib/python3.9/site-packages/selenium/webdriver/remote/webelement.py\u001b[0m in \u001b[0;36mtext\u001b[0;34m(self)\u001b[0m\n\u001b[1;32m     74\u001b[0m     \u001b[0;32mdef\u001b[0m \u001b[0mtext\u001b[0m\u001b[0;34m(\u001b[0m\u001b[0mself\u001b[0m\u001b[0;34m)\u001b[0m\u001b[0;34m:\u001b[0m\u001b[0;34m\u001b[0m\u001b[0;34m\u001b[0m\u001b[0m\n\u001b[1;32m     75\u001b[0m         \u001b[0;34m\"\"\"The text of the element.\"\"\"\u001b[0m\u001b[0;34m\u001b[0m\u001b[0;34m\u001b[0m\u001b[0m\n\u001b[0;32m---> 76\u001b[0;31m         \u001b[0;32mreturn\u001b[0m \u001b[0mself\u001b[0m\u001b[0;34m.\u001b[0m\u001b[0m_execute\u001b[0m\u001b[0;34m(\u001b[0m\u001b[0mCommand\u001b[0m\u001b[0;34m.\u001b[0m\u001b[0mGET_ELEMENT_TEXT\u001b[0m\u001b[0;34m)\u001b[0m\u001b[0;34m[\u001b[0m\u001b[0;34m'value'\u001b[0m\u001b[0;34m]\u001b[0m\u001b[0;34m\u001b[0m\u001b[0;34m\u001b[0m\u001b[0m\n\u001b[0m\u001b[1;32m     77\u001b[0m \u001b[0;34m\u001b[0m\u001b[0m\n\u001b[1;32m     78\u001b[0m     \u001b[0;32mdef\u001b[0m \u001b[0mclick\u001b[0m\u001b[0;34m(\u001b[0m\u001b[0mself\u001b[0m\u001b[0;34m)\u001b[0m\u001b[0;34m:\u001b[0m\u001b[0;34m\u001b[0m\u001b[0;34m\u001b[0m\u001b[0m\n",
      "\u001b[0;32m/usr/local/lib/python3.9/site-packages/selenium/webdriver/remote/webelement.py\u001b[0m in \u001b[0;36m_execute\u001b[0;34m(self, command, params)\u001b[0m\n\u001b[1;32m    631\u001b[0m             \u001b[0mparams\u001b[0m \u001b[0;34m=\u001b[0m \u001b[0;34m{\u001b[0m\u001b[0;34m}\u001b[0m\u001b[0;34m\u001b[0m\u001b[0;34m\u001b[0m\u001b[0m\n\u001b[1;32m    632\u001b[0m         \u001b[0mparams\u001b[0m\u001b[0;34m[\u001b[0m\u001b[0;34m'id'\u001b[0m\u001b[0;34m]\u001b[0m \u001b[0;34m=\u001b[0m \u001b[0mself\u001b[0m\u001b[0;34m.\u001b[0m\u001b[0m_id\u001b[0m\u001b[0;34m\u001b[0m\u001b[0;34m\u001b[0m\u001b[0m\n\u001b[0;32m--> 633\u001b[0;31m         \u001b[0;32mreturn\u001b[0m \u001b[0mself\u001b[0m\u001b[0;34m.\u001b[0m\u001b[0m_parent\u001b[0m\u001b[0;34m.\u001b[0m\u001b[0mexecute\u001b[0m\u001b[0;34m(\u001b[0m\u001b[0mcommand\u001b[0m\u001b[0;34m,\u001b[0m \u001b[0mparams\u001b[0m\u001b[0;34m)\u001b[0m\u001b[0;34m\u001b[0m\u001b[0;34m\u001b[0m\u001b[0m\n\u001b[0m\u001b[1;32m    634\u001b[0m \u001b[0;34m\u001b[0m\u001b[0m\n\u001b[1;32m    635\u001b[0m     \u001b[0;32mdef\u001b[0m \u001b[0mfind_element\u001b[0m\u001b[0;34m(\u001b[0m\u001b[0mself\u001b[0m\u001b[0;34m,\u001b[0m \u001b[0mby\u001b[0m\u001b[0;34m=\u001b[0m\u001b[0mBy\u001b[0m\u001b[0;34m.\u001b[0m\u001b[0mID\u001b[0m\u001b[0;34m,\u001b[0m \u001b[0mvalue\u001b[0m\u001b[0;34m=\u001b[0m\u001b[0;32mNone\u001b[0m\u001b[0;34m)\u001b[0m\u001b[0;34m:\u001b[0m\u001b[0;34m\u001b[0m\u001b[0;34m\u001b[0m\u001b[0m\n",
      "\u001b[0;32m/usr/local/lib/python3.9/site-packages/selenium/webdriver/remote/webdriver.py\u001b[0m in \u001b[0;36mexecute\u001b[0;34m(self, driver_command, params)\u001b[0m\n\u001b[1;32m    319\u001b[0m         \u001b[0mresponse\u001b[0m \u001b[0;34m=\u001b[0m \u001b[0mself\u001b[0m\u001b[0;34m.\u001b[0m\u001b[0mcommand_executor\u001b[0m\u001b[0;34m.\u001b[0m\u001b[0mexecute\u001b[0m\u001b[0;34m(\u001b[0m\u001b[0mdriver_command\u001b[0m\u001b[0;34m,\u001b[0m \u001b[0mparams\u001b[0m\u001b[0;34m)\u001b[0m\u001b[0;34m\u001b[0m\u001b[0;34m\u001b[0m\u001b[0m\n\u001b[1;32m    320\u001b[0m         \u001b[0;32mif\u001b[0m \u001b[0mresponse\u001b[0m\u001b[0;34m:\u001b[0m\u001b[0;34m\u001b[0m\u001b[0;34m\u001b[0m\u001b[0m\n\u001b[0;32m--> 321\u001b[0;31m             \u001b[0mself\u001b[0m\u001b[0;34m.\u001b[0m\u001b[0merror_handler\u001b[0m\u001b[0;34m.\u001b[0m\u001b[0mcheck_response\u001b[0m\u001b[0;34m(\u001b[0m\u001b[0mresponse\u001b[0m\u001b[0;34m)\u001b[0m\u001b[0;34m\u001b[0m\u001b[0;34m\u001b[0m\u001b[0m\n\u001b[0m\u001b[1;32m    322\u001b[0m             response['value'] = self._unwrap_value(\n\u001b[1;32m    323\u001b[0m                 response.get('value', None))\n",
      "\u001b[0;32m/usr/local/lib/python3.9/site-packages/selenium/webdriver/remote/errorhandler.py\u001b[0m in \u001b[0;36mcheck_response\u001b[0;34m(self, response)\u001b[0m\n\u001b[1;32m    240\u001b[0m                 \u001b[0malert_text\u001b[0m \u001b[0;34m=\u001b[0m \u001b[0mvalue\u001b[0m\u001b[0;34m[\u001b[0m\u001b[0;34m'alert'\u001b[0m\u001b[0;34m]\u001b[0m\u001b[0;34m.\u001b[0m\u001b[0mget\u001b[0m\u001b[0;34m(\u001b[0m\u001b[0;34m'text'\u001b[0m\u001b[0;34m)\u001b[0m\u001b[0;34m\u001b[0m\u001b[0;34m\u001b[0m\u001b[0m\n\u001b[1;32m    241\u001b[0m             \u001b[0;32mraise\u001b[0m \u001b[0mexception_class\u001b[0m\u001b[0;34m(\u001b[0m\u001b[0mmessage\u001b[0m\u001b[0;34m,\u001b[0m \u001b[0mscreen\u001b[0m\u001b[0;34m,\u001b[0m \u001b[0mstacktrace\u001b[0m\u001b[0;34m,\u001b[0m \u001b[0malert_text\u001b[0m\u001b[0;34m)\u001b[0m\u001b[0;34m\u001b[0m\u001b[0;34m\u001b[0m\u001b[0m\n\u001b[0;32m--> 242\u001b[0;31m         \u001b[0;32mraise\u001b[0m \u001b[0mexception_class\u001b[0m\u001b[0;34m(\u001b[0m\u001b[0mmessage\u001b[0m\u001b[0;34m,\u001b[0m \u001b[0mscreen\u001b[0m\u001b[0;34m,\u001b[0m \u001b[0mstacktrace\u001b[0m\u001b[0;34m)\u001b[0m\u001b[0;34m\u001b[0m\u001b[0;34m\u001b[0m\u001b[0m\n\u001b[0m\u001b[1;32m    243\u001b[0m \u001b[0;34m\u001b[0m\u001b[0m\n\u001b[1;32m    244\u001b[0m     \u001b[0;32mdef\u001b[0m \u001b[0m_value_or_default\u001b[0m\u001b[0;34m(\u001b[0m\u001b[0mself\u001b[0m\u001b[0;34m,\u001b[0m \u001b[0mobj\u001b[0m\u001b[0;34m,\u001b[0m \u001b[0mkey\u001b[0m\u001b[0;34m,\u001b[0m \u001b[0mdefault\u001b[0m\u001b[0;34m)\u001b[0m\u001b[0;34m:\u001b[0m\u001b[0;34m\u001b[0m\u001b[0;34m\u001b[0m\u001b[0m\n",
      "\u001b[0;31mStaleElementReferenceException\u001b[0m: Message: stale element reference: element is not attached to the page document\n  (Session info: chrome=90.0.4430.93)\n"
     ]
    }
   ],
   "source": [
    "for c in time:\n",
    "    print(c.text)\n",
    "    if CLASS_TIME in c.text:\n",
    "        check_register = c.find_element_by_xpath('//tr/td/a/strong')\n",
    "        if check_register.text == 'Registered!':\n",
    "            driver.get('https://clients.mindbodyonline.com/asp/my_sch.asp')\n",
    "            break"
   ]
  },
  {
   "cell_type": "code",
   "execution_count": 140,
   "id": "e7af0fe8",
   "metadata": {},
   "outputs": [],
   "source": [
    "cancellation = driver.find_element_by_xpath(\"//table/tbody/tr/td[@class ='textSmall cancelCell']\")\n",
    "cancellation.click()"
   ]
  },
  {
   "cell_type": "code",
   "execution_count": 141,
   "id": "206f3f4c",
   "metadata": {},
   "outputs": [],
   "source": [
    "alert = driver.switch_to.alert"
   ]
  },
  {
   "cell_type": "code",
   "execution_count": 143,
   "id": "815aef35",
   "metadata": {},
   "outputs": [],
   "source": [
    "alert.accept()"
   ]
  },
  {
   "cell_type": "code",
   "execution_count": 144,
   "id": "47aeef99",
   "metadata": {},
   "outputs": [],
   "source": [
    "log_out = driver.find_element_by_class_name('logoutButton')\n",
    "log_out.click()"
   ]
  },
  {
   "cell_type": "code",
   "execution_count": null,
   "id": "bc7d5cdc",
   "metadata": {},
   "outputs": [],
   "source": []
  }
 ],
 "metadata": {
  "kernelspec": {
   "display_name": "Python 3",
   "language": "python",
   "name": "python3"
  },
  "language_info": {
   "codemirror_mode": {
    "name": "ipython",
    "version": 3
   },
   "file_extension": ".py",
   "mimetype": "text/x-python",
   "name": "python",
   "nbconvert_exporter": "python",
   "pygments_lexer": "ipython3",
   "version": "3.9.4"
  }
 },
 "nbformat": 4,
 "nbformat_minor": 5
}
